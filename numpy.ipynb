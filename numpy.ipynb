{
 "cells": [
  {
   "cell_type": "markdown",
   "metadata": {},
   "source": [
    "## Scalar Value\n",
    "scalor has 0 dimension\n",
    "\n",
    "( ) = scaler vlues"
   ]
  },
  {
   "cell_type": "code",
   "execution_count": 19,
   "metadata": {},
   "outputs": [
    {
     "data": {
      "text/plain": [
       "'objet 1000'"
      ]
     },
     "metadata": {},
     "output_type": "display_data"
    },
    {
     "data": {
      "text/plain": [
       "\"object type with global function<class 'numpy.ndarray'>\""
      ]
     },
     "metadata": {},
     "output_type": "display_data"
    },
    {
     "data": {
      "text/plain": [
       "'object shap ()'"
      ]
     },
     "metadata": {},
     "output_type": "display_data"
    },
    {
     "data": {
      "text/plain": [
       "'object type  int32'"
      ]
     },
     "metadata": {},
     "output_type": "display_data"
    },
    {
     "data": {
      "text/plain": [
       "'Number of dimension 0'"
      ]
     },
     "metadata": {},
     "output_type": "display_data"
    },
    {
     "data": {
      "text/plain": [
       "'Total items in array 1'"
      ]
     },
     "metadata": {},
     "output_type": "display_data"
    },
    {
     "data": {
      "text/plain": [
       "4"
      ]
     },
     "metadata": {},
     "output_type": "display_data"
    }
   ],
   "source": [
    "import numpy as np\n",
    "a: np.ndarray= np.array(1000) # object to store \n",
    "display(f\"objet {a}\") # prints of objects\n",
    "display(f\"object type with global function{type(a)}\")\n",
    "display(f\"object shap {a.shape}\")  # prints the shap of objects\n",
    "display(f\"object type  {a.dtype}\")  # prints dtype of objects\n",
    "display(f\"Number of dimension {a.ndim}\")  # prints  ndim of objects\n",
    "display(f\"Total items in array {a.size}\")  # prints size of objects\n",
    "display(a.itemsize)  # prints itemsize of objects"
   ]
  },
  {
   "cell_type": "markdown",
   "metadata": {},
   "source": [
    "## Vacter Type\n",
    "vacter type have more than  0 dimension\n",
    "\n",
    "([ 1,2,3]) = vector dimension"
   ]
  },
  {
   "cell_type": "code",
   "execution_count": 18,
   "metadata": {},
   "outputs": [
    {
     "data": {
      "text/plain": [
       "'objet [1 2 3 4]'"
      ]
     },
     "metadata": {},
     "output_type": "display_data"
    },
    {
     "data": {
      "text/plain": [
       "\"object type with global function<class 'numpy.ndarray'>\""
      ]
     },
     "metadata": {},
     "output_type": "display_data"
    },
    {
     "data": {
      "text/plain": [
       "'object shap (4,)'"
      ]
     },
     "metadata": {},
     "output_type": "display_data"
    },
    {
     "data": {
      "text/plain": [
       "'object type  int32'"
      ]
     },
     "metadata": {},
     "output_type": "display_data"
    },
    {
     "data": {
      "text/plain": [
       "'Number of dimension 1'"
      ]
     },
     "metadata": {},
     "output_type": "display_data"
    },
    {
     "data": {
      "text/plain": [
       "'Total items in array \\n 4'"
      ]
     },
     "metadata": {},
     "output_type": "display_data"
    },
    {
     "data": {
      "text/plain": [
       "4"
      ]
     },
     "metadata": {},
     "output_type": "display_data"
    }
   ],
   "source": [
    "import numpy as np\n",
    "a: np.ndarray= np.array([1,2,3,4]) # object to store \n",
    "display(f\"objet {a}\") # prints of objects\n",
    "display(f\"object type with global function{type(a)}\")\n",
    "display(f\"object shap {a.shape}\")  # prints the shap of objects\n",
    "display(f\"object type  {a.dtype}\")  # prints dtype of objects\n",
    "display(f\"Number of dimension {a.ndim}\")  # prints  ndim of objects\n",
    "display(f\"Total items in array  {a.size}\")  # prints size of objects\n",
    "display(a.itemsize)  # prints itemsize of objects"
   ]
  },
  {
   "cell_type": "markdown",
   "metadata": {},
   "source": [
    "## Matrix Type\n"
   ]
  },
  {
   "cell_type": "code",
   "execution_count": 21,
   "metadata": {},
   "outputs": [
    {
     "data": {
      "text/plain": [
       "'objet [[ 1  2  3  4]\\n [ 5  6  7  8]\\n [ 9 10 11 12]]'"
      ]
     },
     "metadata": {},
     "output_type": "display_data"
    },
    {
     "data": {
      "text/plain": [
       "\"object type with global function<class 'numpy.ndarray'>\""
      ]
     },
     "metadata": {},
     "output_type": "display_data"
    },
    {
     "data": {
      "text/plain": [
       "'object shap (3, 4)'"
      ]
     },
     "metadata": {},
     "output_type": "display_data"
    },
    {
     "data": {
      "text/plain": [
       "'object type  int32'"
      ]
     },
     "metadata": {},
     "output_type": "display_data"
    },
    {
     "data": {
      "text/plain": [
       "'Number of dimension 2'"
      ]
     },
     "metadata": {},
     "output_type": "display_data"
    },
    {
     "data": {
      "text/plain": [
       "'Total items in array  12'"
      ]
     },
     "metadata": {},
     "output_type": "display_data"
    },
    {
     "data": {
      "text/plain": [
       "4"
      ]
     },
     "metadata": {},
     "output_type": "display_data"
    }
   ],
   "source": [
    "import numpy as np\n",
    "data= [[1,2,3,4],[5,6,7,8],[9,10,11,12]]\n",
    "a: np.ndarray= np.array(data) # object to store \n",
    "display(f\"objet {a}\") # prints of objects\n",
    "display(f\"object type with global function{type(a)}\")\n",
    "display(f\"object shap {a.shape}\")  # prints the shap of objects\n",
    "display(f\"object type  {a.dtype}\")  # prints dtype of objects\n",
    "display(f\"Number of dimension {a.ndim}\")  # prints  ndim of objects\n",
    "display(f\"Total items in array  {a.size}\")  # prints size of objects\n",
    "display(a.itemsize)  # prints itemsize of objects"
   ]
  },
  {
   "cell_type": "markdown",
   "metadata": {},
   "source": [
    "# Numpy with NDArray typing suport"
   ]
  },
  {
   "cell_type": "code",
   "execution_count": 23,
   "metadata": {},
   "outputs": [
    {
     "name": "stdout",
     "output_type": "stream",
     "text": [
      "[ 1  2  3  4  5  6  7  8  9 10]\n"
     ]
    }
   ],
   "source": [
    "from nptyping import NDArray, Shape,UInt64\n",
    "from typing import Any\n",
    "\n",
    "data:NDArray[Shape[\"10\"], Any]= np.arange(1,11)\n",
    "print(data)"
   ]
  },
  {
   "cell_type": "code",
   "execution_count": 25,
   "metadata": {},
   "outputs": [
    {
     "name": "stdout",
     "output_type": "stream",
     "text": [
      "[ 1  2  3  4  5  6  7  8  9 10]\n",
      "[ 6  7  8  9 10 11 12 13 14 15]\n"
     ]
    }
   ],
   "source": [
    "\n",
    "data:NDArray[Shape[\"10\"], Any]= np.arange(1,11)\n",
    "print(data)\n",
    "print(data+5) # add 5 to each elent of numpy array"
   ]
  },
  {
   "cell_type": "code",
   "execution_count": 29,
   "metadata": {},
   "outputs": [
    {
     "name": "stdout",
     "output_type": "stream",
     "text": [
      "[1, 2, 3, 4, 5, 6, 7, 8, 9, 10]\n"
     ]
    },
    {
     "data": {
      "text/plain": [
       "[6, 7, 8, 9, 10, 11, 12, 13, 14, 15]"
      ]
     },
     "execution_count": 29,
     "metadata": {},
     "output_type": "execute_result"
    }
   ],
   "source": [
    "data:list[int]=list(range(1,11))\n",
    "print(data)\n",
    "[i+5 for i in data ] # adding 5 in each elent of simple list"
   ]
  },
  {
   "cell_type": "markdown",
   "metadata": {},
   "source": [
    "## numpy advance operation vs List operation"
   ]
  },
  {
   "cell_type": "code",
   "execution_count": 32,
   "metadata": {},
   "outputs": [
    {
     "name": "stdout",
     "output_type": "stream",
     "text": [
      "[1, 2, 3, 4, 5, 6, 7, 8, 9, 10, 11, 12, 13, 14, 15, 16, 17, 18, 19, 20]\n",
      "[6, 7, 8, 9, 10, 11]\n"
     ]
    },
    {
     "ename": "TypeError",
     "evalue": "can only assign an iterable",
     "output_type": "error",
     "traceback": [
      "\u001b[1;31m---------------------------------------------------------------------------\u001b[0m",
      "\u001b[1;31mTypeError\u001b[0m                                 Traceback (most recent call last)",
      "Cell \u001b[1;32mIn[32], line 5\u001b[0m\n\u001b[0;32m      2\u001b[0m \u001b[38;5;28mprint\u001b[39m(data)\n\u001b[0;32m      4\u001b[0m \u001b[38;5;28mprint\u001b[39m(data[\u001b[38;5;241m5\u001b[39m:\u001b[38;5;241m11\u001b[39m]) \u001b[38;5;66;03m# slicing \u001b[39;00m\n\u001b[1;32m----> 5\u001b[0m \u001b[43mdata\u001b[49m\u001b[43m[\u001b[49m\u001b[38;5;241;43m5\u001b[39;49m\u001b[43m:\u001b[49m\u001b[38;5;241;43m11\u001b[39;49m\u001b[43m]\u001b[49m\u001b[38;5;241m=\u001b[39m\u001b[38;5;241m100\u001b[39m \u001b[38;5;66;03m# normal python list do not allow to apdate the list\u001b[39;00m\n",
      "\u001b[1;31mTypeError\u001b[0m: can only assign an iterable"
     ]
    }
   ],
   "source": [
    "data:list[int] = list(range(1,21))\n",
    "print(data)\n",
    "\n",
    "print(data[5:11]) # slicing \n",
    "data[5:11]=100 # normal python list do not allow to apdate the list\n"
   ]
  },
  {
   "cell_type": "code",
   "execution_count": 35,
   "metadata": {},
   "outputs": [
    {
     "name": "stdout",
     "output_type": "stream",
     "text": [
      "[ 1  2  3  4  5  6  7  8  9 10 11 12 13 14 15 16 17 18 19 20]\n",
      "[ 6  7  8  9 10 11]\n",
      "[  1   2   3   4   5 100 100 100 100 100 100  12  13  14  15  16  17  18\n",
      "  19  20]\n"
     ]
    }
   ],
   "source": [
    "nData:NDArray[Shape[\"20\"],Any]= np.arange(1,21)\n",
    "print(nData)\n",
    "print(nData[5:11])\n",
    "nData[5:11]=100 ## numpy list can be updated\n",
    "print(nData)\n",
    "\n"
   ]
  },
  {
   "cell_type": "markdown",
   "metadata": {},
   "source": [
    "## Numpy 1 dimension Function"
   ]
  },
  {
   "cell_type": "code",
   "execution_count": 100,
   "metadata": {},
   "outputs": [
    {
     "name": "stdout",
     "output_type": "stream",
     "text": [
      "[ 1  7  8 10]\n",
      "[False False  True  True]\n"
     ]
    }
   ],
   "source": [
    "state_bank:NDArray[Shape[\"10\"],Any]= np.array([1,7,8,10])\n",
    "print(state_bank) # it will print 4 integer num\n",
    "state_bank % 2==0 # it will convert num into boolen (true false)\n",
    "print(state_bank % 2==0)"
   ]
  },
  {
   "cell_type": "code",
   "execution_count": 41,
   "metadata": {},
   "outputs": [
    {
     "data": {
      "text/plain": [
       "array([ 8, 10])"
      ]
     },
     "execution_count": 41,
     "metadata": {},
     "output_type": "execute_result"
    }
   ],
   "source": [
    "state_bank:NDArray[Shape[\"10\"],Any]= np.array([1,7,8,10])\n",
    "state_bank[state_bank % 2==0]#it will match num and boolean and retun that value that have true num\n"
   ]
  },
  {
   "cell_type": "code",
   "execution_count": 43,
   "metadata": {},
   "outputs": [
    {
     "data": {
      "text/plain": [
       "array([ 1,  7,  8, 10])"
      ]
     },
     "metadata": {},
     "output_type": "display_data"
    },
    {
     "data": {
      "text/plain": [
       "array([50,  1, 55, 55, 38, 25, 80, 35, 47, 52, 71, 91, 62, 32, 51, 26,  7,\n",
       "       26, 60, 44])"
      ]
     },
     "metadata": {},
     "output_type": "display_data"
    }
   ],
   "source": [
    "# here we want get intersectiun of state_bank and  ubl_bank \n",
    "state_bank:NDArray[Shape[\"10\"],Any]= np.array([1,7,8,10])\n",
    "\n",
    "#generate the random 20 number between 1 to 100\n",
    "ubl_bank:NDArray[Shape[\"10\"],Any] = np.random.randint(1,100,20)\n",
    "\n",
    "display(state_bank)\n",
    "display(ubl_bank)"
   ]
  },
  {
   "cell_type": "code",
   "execution_count": 44,
   "metadata": {},
   "outputs": [
    {
     "data": {
      "text/plain": [
       "array([ 1,  7,  8, 10])"
      ]
     },
     "metadata": {},
     "output_type": "display_data"
    },
    {
     "data": {
      "text/plain": [
       "array([50,  1, 55, 55, 38, 25, 80, 35, 47, 52, 71, 91, 62, 32, 51, 26,  7,\n",
       "       26, 60, 44])"
      ]
     },
     "metadata": {},
     "output_type": "display_data"
    },
    {
     "data": {
      "text/plain": [
       "array([ True,  True, False, False])"
      ]
     },
     "execution_count": 44,
     "metadata": {},
     "output_type": "execute_result"
    }
   ],
   "source": [
    "display(state_bank)\n",
    "display(ubl_bank)\n",
    "#        4 item  search from 20\n",
    "np.in1d(state_bank, ubl_bank) # first variable (state_bank) items length return with bolean"
   ]
  },
  {
   "cell_type": "code",
   "execution_count": 45,
   "metadata": {},
   "outputs": [
    {
     "data": {
      "text/plain": [
       "array([ 1,  7,  8, 10])"
      ]
     },
     "metadata": {},
     "output_type": "display_data"
    },
    {
     "data": {
      "text/plain": [
       "array([50,  1, 55, 55, 38, 25, 80, 35, 47, 52, 71, 91, 62, 32, 51, 26,  7,\n",
       "       26, 60, 44])"
      ]
     },
     "metadata": {},
     "output_type": "display_data"
    },
    {
     "data": {
      "text/plain": [
       "array([1, 7])"
      ]
     },
     "execution_count": 45,
     "metadata": {},
     "output_type": "execute_result"
    }
   ],
   "source": [
    "display(state_bank)\n",
    "display(ubl_bank)\n",
    "#    \n",
    "state_bank[np.in1d(state_bank, ubl_bank)] #only retun true matched value"
   ]
  },
  {
   "cell_type": "code",
   "execution_count": 50,
   "metadata": {},
   "outputs": [
    {
     "data": {
      "text/plain": [
       "array([1, 7])"
      ]
     },
     "execution_count": 50,
     "metadata": {},
     "output_type": "execute_result"
    }
   ],
   "source": [
    "np.intersect1d(state_bank,ubl_bank) "
   ]
  },
  {
   "cell_type": "code",
   "execution_count": 49,
   "metadata": {},
   "outputs": [
    {
     "data": {
      "text/plain": [
       "array([2, 4, 6, 8, 9])"
      ]
     },
     "metadata": {},
     "output_type": "display_data"
    },
    {
     "data": {
      "text/plain": [
       "array([2, 3, 7, 9, 3])"
      ]
     },
     "metadata": {},
     "output_type": "display_data"
    },
    {
     "data": {
      "text/plain": [
       "array([2, 3, 6, 8, 3])"
      ]
     },
     "execution_count": 49,
     "metadata": {},
     "output_type": "execute_result"
    }
   ],
   "source": [
    "x:NDArray[Shape[\"10\"],Any] = np.array([2,4,6,8,9])\n",
    "y:NDArray[Shape[\"10\"],Any] = np.array([2,3,7,9,3])\n",
    "display(x)\n",
    "display(y)\n",
    "\n",
    "np.where(x>y,x,y) # it will return greater number that either from x or from y"
   ]
  },
  {
   "cell_type": "code",
   "execution_count": 51,
   "metadata": {},
   "outputs": [
    {
     "data": {
      "text/plain": [
       "array([2, 4, 6, 8, 9])"
      ]
     },
     "metadata": {},
     "output_type": "display_data"
    },
    {
     "data": {
      "text/plain": [
       "array([2, 3, 7, 9, 3])"
      ]
     },
     "metadata": {},
     "output_type": "display_data"
    },
    {
     "data": {
      "text/plain": [
       "array([2, 3, 6, 8, 3])"
      ]
     },
     "execution_count": 51,
     "metadata": {},
     "output_type": "execute_result"
    }
   ],
   "source": [
    "x:NDArray[Shape[\"10\"],Any] = np.array([2,4,6,8,9])\n",
    "y:NDArray[Shape[\"10\"],Any] = np.array([2,3,7,9,3])\n",
    "display(x)\n",
    "display(y)\n",
    "\n",
    "np.where(x <y,x,y) # it will return smaller number that either from x or from y"
   ]
  },
  {
   "cell_type": "markdown",
   "metadata": {},
   "source": [
    "##  Create Numpy Array"
   ]
  },
  {
   "cell_type": "code",
   "execution_count": 57,
   "metadata": {},
   "outputs": [
    {
     "name": "stdout",
     "output_type": "stream",
     "text": [
      "[[1 2 3]\n",
      " [4 5 6]\n",
      " [7 8 9]]\n",
      "\n",
      " [[1 2 3]\n",
      " [4 5 6]]\n",
      "\n",
      " [[1 2]\n",
      " [4 5]]\n",
      "\n",
      " [['a']\n",
      " ['b']]\n"
     ]
    }
   ],
   "source": [
    "# 2 dimention array\n",
    "a:NDArray[Shape[\"Size, Size\"],Any]=np.array([[1,2,3],\n",
    "                                             [4,5,6],\n",
    "                                             [7,8,9]])\n",
    "\n",
    "print(a)\n",
    "\n",
    "a:NDArray[Shape[\"Size, Size\"],Any]=np.array([[1,2,3],\n",
    "                                             [4,5,6],\n",
    "                                             ])\n",
    "\n",
    "print(\"\\n\",a)\n",
    "a:NDArray[Shape[\"Size, Size\"],Any]=np.array([[1,2],\n",
    "                                             [4,5],\n",
    "                                            ])\n",
    "\n",
    "print(\"\\n\",a)\n",
    "\n",
    "a:NDArray[Shape[\"Size, Size\"],Any]=np.array([[\"a\"],\n",
    "                                             [\"b\"],\n",
    "                                            ])\n",
    "\n",
    "print(\"\\n\",a)"
   ]
  },
  {
   "cell_type": "code",
   "execution_count": 101,
   "metadata": {},
   "outputs": [
    {
     "name": "stdout",
     "output_type": "stream",
     "text": [
      "[[1 2 3]\n",
      " [4 5 6]\n",
      " [7 8 9]]\n",
      "\n",
      " [[1 2 3]\n",
      " [4 5 6]]\n",
      "\n",
      " [[1 2]\n",
      " [4 5]]\n",
      "\n",
      " [['a']\n",
      " ['b']]\n"
     ]
    }
   ],
   "source": [
    "# 2 dimention array\n",
    "a:NDArray[Shape[\"*, *\"],Any]=np.array([[1,2,3],\n",
    "                                             [4,5,6],\n",
    "                                             [7,8,9]])\n",
    "\n",
    "print(a)\n",
    "\n",
    "a:NDArray[Shape[\"*, *\"],Any]=np.array([[1,2,3],\n",
    "                                             [4,5,6],\n",
    "                                             ])\n",
    "\n",
    "print(\"\\n\",a)\n",
    "a:NDArray[Shape[\"*, *\"],Any]=np.array([[1,2],\n",
    "                                             [4,5],\n",
    "                                            ])\n",
    "\n",
    "print(\"\\n\",a)\n",
    "\n",
    "a:NDArray[Shape[\"*, *\"],Any]=np.array([[\"a\"],\n",
    "                                             [\"b\"],\n",
    "                                            ])\n",
    "\n",
    "print(\"\\n\",a)"
   ]
  },
  {
   "cell_type": "code",
   "execution_count": 59,
   "metadata": {},
   "outputs": [
    {
     "name": "stdout",
     "output_type": "stream",
     "text": [
      "Name            Shape            Bytes            Type\n",
      "===========================================================\n",
      "\n",
      "_               5                20               int32\n",
      "__              2                8                int32\n",
      "___             5                20               int32\n",
      "a               2 x 1            8                str32\n",
      "nData           20               80               int32\n",
      "sata_bank       4                16               int32\n",
      "ubl_bank        20               80               int32\n",
      "state_bank      4                16               int32\n",
      "_39             4                4                bool\n",
      "_41             2                8                int32\n",
      "_44             4                4                bool\n",
      "_45             2                8                int32\n",
      "_46             2                8                int32\n",
      "x               5                20               int32\n",
      "y               5                20               int32\n",
      "_47             5                20               int32\n",
      "_48             5                20               int32\n",
      "_49 (___)       5                20               int32\n",
      "_50 (__)        2                8                int32\n",
      "_51 (_)         5                20               int32\n",
      "\n",
      "Upper bound on total bytes  =       360\n"
     ]
    }
   ],
   "source": [
    "np.who()"
   ]
  },
  {
   "cell_type": "code",
   "execution_count": 60,
   "metadata": {},
   "outputs": [
    {
     "name": "stdout",
     "output_type": "stream",
     "text": [
      "[ 1  2  3  4  5  6  7  8  9 10]\n",
      "[1 2 3 4 5 6]\n"
     ]
    }
   ],
   "source": [
    "# 1 dimension array\n",
    "a:NDArray[Shape[\"Size\"],Any]= np.arange(1,11)\n",
    "print(a)\n",
    "\n",
    "a:NDArray[Shape[\"Size\"],Any]= np.arange(1,7)\n",
    "print(a)"
   ]
  },
  {
   "cell_type": "code",
   "execution_count": 71,
   "metadata": {},
   "outputs": [
    {
     "name": "stdout",
     "output_type": "stream",
     "text": [
      "[[0 1 2]\n",
      " [3 4 5]\n",
      " [6 7 8]]\n",
      "\n",
      " [[ 0  1  2]\n",
      " [ 3  4  5]\n",
      " [ 6  7  8]\n",
      " [ 9 10 11]]\n"
     ]
    }
   ],
   "source": [
    "# 2 dimension array\n",
    "b:NDArray[Shape[\"Size,Size\"],Any]= np.arange(3*3).reshape(3,3) # rows X column\n",
    "print(b)\n",
    "\n",
    "a:NDArray[Shape[\"Size, Size\"],Any]= np.arange(4*3).reshape(4,3)\n",
    "print(\"\\n\",a)"
   ]
  },
  {
   "cell_type": "code",
   "execution_count": 75,
   "metadata": {},
   "outputs": [
    {
     "name": "stdout",
     "output_type": "stream",
     "text": [
      "[[[ 0  1  2]\n",
      "  [ 3  4  5]\n",
      "  [ 6  7  8]]\n",
      "\n",
      " [[ 9 10 11]\n",
      "  [12 13 14]\n",
      "  [15 16 17]]]\n",
      "===============\n",
      "\n",
      " [[[ 0  1]\n",
      "  [ 2  3]]\n",
      "\n",
      " [[ 4  5]\n",
      "  [ 6  7]]\n",
      "\n",
      " [[ 8  9]\n",
      "  [10 11]]\n",
      "\n",
      " [[12 13]\n",
      "  [14 15]]\n",
      "\n",
      " [[16 17]\n",
      "  [18 19]]]\n"
     ]
    }
   ],
   "source": [
    "# 3 dimension array\n",
    "b:NDArray[Shape[\"Size,Size,Size\"],Any]= np.arange(2*3*3).reshape(2,3,3) # rows X column\n",
    "print(b)\n",
    "print(\"===============\")\n",
    "a:NDArray[Shape[\"Size,Size,Size\"],Any]= np.arange(5*2*2).reshape(5,2,2)\n",
    "print(\"\\n\",a)\n"
   ]
  },
  {
   "cell_type": "code",
   "execution_count": 77,
   "metadata": {},
   "outputs": [
    {
     "data": {
      "text/plain": [
       "array([1, 2, 3, 4])"
      ]
     },
     "execution_count": 77,
     "metadata": {},
     "output_type": "execute_result"
    }
   ],
   "source": [
    "np.asarray([1,2,3,4])"
   ]
  },
  {
   "cell_type": "code",
   "execution_count": 80,
   "metadata": {},
   "outputs": [
    {
     "name": "stdout",
     "output_type": "stream",
     "text": [
      "[0. 0. 0. 0. 0.]\n",
      "\n",
      " [[0. 0.]\n",
      " [0. 0.]\n",
      " [0. 0.]]\n"
     ]
    }
   ],
   "source": [
    "a=np.zeros(5)\n",
    "print(a)\n",
    "b=np.zeros((3,2)) # with two dimension array\n",
    "print(\"\\n\",b)\n"
   ]
  },
  {
   "cell_type": "code",
   "execution_count": 83,
   "metadata": {},
   "outputs": [
    {
     "data": {
      "text/plain": [
       "array([1., 1., 1., 1., 1.])"
      ]
     },
     "execution_count": 83,
     "metadata": {},
     "output_type": "execute_result"
    }
   ],
   "source": [
    "np.ones(5)"
   ]
  },
  {
   "cell_type": "code",
   "execution_count": 84,
   "metadata": {},
   "outputs": [
    {
     "data": {
      "text/plain": [
       "array([[1., 1., 1., 1., 1.],\n",
       "       [1., 1., 1., 1., 1.],\n",
       "       [1., 1., 1., 1., 1.]])"
      ]
     },
     "execution_count": 84,
     "metadata": {},
     "output_type": "execute_result"
    }
   ],
   "source": [
    "np.ones((3,5))"
   ]
  },
  {
   "cell_type": "code",
   "execution_count": 87,
   "metadata": {},
   "outputs": [
    {
     "name": "stdout",
     "output_type": "stream",
     "text": [
      "[[0 1]\n",
      " [2 3]]\n",
      "============\n",
      "[[1 1]\n",
      " [1 1]]\n"
     ]
    }
   ],
   "source": [
    "a:NDArray[Shape[\"Size,Size,Size\"],Any]= np.arange(2*2).reshape(2,2)\n",
    "print(a)\n",
    "print(\"============\")\n",
    "b=np.ones_like(a) # it will generate cop of a and replace all element in 1\n",
    "print(b)"
   ]
  },
  {
   "cell_type": "code",
   "execution_count": 92,
   "metadata": {},
   "outputs": [
    {
     "name": "stdout",
     "output_type": "stream",
     "text": [
      "[[[ 0  1  2]\n",
      "  [ 3  4  5]]\n",
      "\n",
      " [[ 6  7  8]\n",
      "  [ 9 10 11]]\n",
      "\n",
      " [[12 13 14]\n",
      "  [15 16 17]]\n",
      "\n",
      " [[18 19 20]\n",
      "  [21 22 23]]]\n",
      "===========\n"
     ]
    },
    {
     "data": {
      "text/plain": [
       "array([[[ 0,  1,  2],\n",
       "        [ 3,  4,  5]],\n",
       "\n",
       "       [[18, 19, 20],\n",
       "        [21, 22, 23]]])"
      ]
     },
     "execution_count": 92,
     "metadata": {},
     "output_type": "execute_result"
    }
   ],
   "source": [
    "b:NDArray[Shape[\"Size,Size,Size\"],Any]= np.arange(4*2*3).reshape(4,2,3) # rows X column\n",
    "print(b)\n",
    "print(\"===========\")\n",
    "#slicing on 3 simension\n",
    "b[[0,-1],::,::]  # it will return first 0 and last -1 picture from 4 pitcher"
   ]
  },
  {
   "cell_type": "markdown",
   "metadata": {},
   "source": [
    "# function"
   ]
  },
  {
   "cell_type": "code",
   "execution_count": 99,
   "metadata": {},
   "outputs": [
    {
     "name": "stdout",
     "output_type": "stream",
     "text": [
      "[ 1  2  3  4  5  6  7  8  9 10]\n",
      "10\n",
      "1\n",
      "5.5\n",
      "2.8722813232690143\n",
      "55\n",
      "[ 1  3  6 10 15 21 28 36 45 55]\n",
      "9\n",
      "0\n"
     ]
    }
   ],
   "source": [
    "data:NDArray[Shape[\"10\"], Any]= np.arange(1,11)\n",
    "print(data)\n",
    "print(data.max())\n",
    "print(data.min())\n",
    "print(data.mean())\n",
    "print(data.std())\n",
    "print(data.sum())\n",
    "print(data.cumsum())\n",
    "print(data.argmax())\n",
    "print(data.argmin())"
   ]
  },
  {
   "cell_type": "markdown",
   "metadata": {},
   "source": []
  }
 ],
 "metadata": {
  "kernelspec": {
   "display_name": "Python 3",
   "language": "python",
   "name": "python3"
  },
  "language_info": {
   "codemirror_mode": {
    "name": "ipython",
    "version": 3
   },
   "file_extension": ".py",
   "mimetype": "text/x-python",
   "name": "python",
   "nbconvert_exporter": "python",
   "pygments_lexer": "ipython3",
   "version": "3.12.3"
  }
 },
 "nbformat": 4,
 "nbformat_minor": 2
}
